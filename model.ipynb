{
 "cells": [
  {
   "cell_type": "markdown",
   "metadata": {},
   "source": [
    "# FMCW Radar Model\n",
    "## Introduction\n",
    "The purpose of this script is to model a Frequency-Modulated Continuous Wave (FMCW) radar, specifically the AWR2944 radar transceiver on the AWR2944 EVM evaluation board.\n",
    "The model will consist of the following parts:\n",
    " * Radar transceiver\n",
    " * Radar environment\n",
    " * Data processing\n",
    "The main purpose of this model is to evaluate different data processing techniques. Thus, the other parts will be simplified to reduce complexity."
   ]
  },
  {
   "cell_type": "code",
   "execution_count": null,
   "metadata": {},
   "outputs": [],
   "source": [
    "clear\n",
    "clc\n",
    "try\n",
    "\trmdir('output', 's')\n",
    "catch\n",
    "end\n",
    "mkdir output"
   ]
  },
  {
   "cell_type": "markdown",
   "metadata": {},
   "source": [
    "## Radar transceiver\n",
    "The `radarTransceiver` System object will be used to model the radar transceiver. Only monostatic radar transceivers can be modelled this way, meaning that the transmitter and receiver are located at the same point.\n",
    "\n",
    "The following elements of the transceiver are modelled:\n",
    " * Waveform\n",
    " * Transmitter\n",
    " * Transmit Antenna\n",
    " * Receive Antenna\n",
    " * Receiver\n",
    "\n",
    "For more info on `radarTransceiver` see [link](https://nl.mathworks.com/help/radar/ref/radartransceiver-system-object.html)\n",
    "\n",
    "### Waveform\n",
    "The transmitted waveform is a linear chirp from 76 GHz to 81 GHz. This signal will be continuously transmitted with a pulse time of 40 us. See [datasheet](https://www.ti.com/lit/ds/symlink/awr2944.pdf?ts=1696424012463&ref_url=https%253A%252F%252Fwww.ti.com%252Fproduct%252FAWR2944#page%3D40) section 7.8.\n",
    "![Image of chirp](report_resources/chirp_waveform.png)"
   ]
  },
  {
   "cell_type": "code",
   "execution_count": null,
   "metadata": {},
   "outputs": [],
   "source": [
    "fs = 200e9;\n",
    "RF.StartFreq = 76e9;\n",
    "RF.Bandwidth = 5e9;\n",
    "RF.PulseTime = 40e-6;\n",
    "RF.PRF = 1/(RF.PulseTime); % Pulse repetition frequency\n",
    "RF.Waveform = phased.LinearFMWaveform('SampleRate',fs,'PulseWidth',RF.PulseTime, ...\n",
    "    'PRF',RF.PRF,'SweepBandwidth',RF.Bandwidth,'FrequencyOffset',RF.StartFreq);"
   ]
  },
  {
   "cell_type": "markdown",
   "metadata": {},
   "source": [
    "The maximum object detection distance can be calculated as a function of the chirp slope and the maximum IF bandwidth (see [datasheet](https://nl.mathworks.com/help/radar/ref/radartransceiver-system-object.html) section 7.8) with the following formula: $B_IF*c \\over 2rate_chirp$"
   ]
  },
  {
   "cell_type": "code",
   "execution_count": null,
   "metadata": {},
   "outputs": [],
   "source": [
    "IF.Bandwidth = 15e6;\n",
    "RF.Slope = RF.Bandwidth/RF.PulseTime;\n",
    "maxObstacleDistance = IF.Bandwidth*physconst('LightSpeed')/(2*RF.Slope)"
   ]
  },
  {
   "cell_type": "markdown",
   "metadata": {},
   "source": [
    "Plot spectrogram of chirp model."
   ]
  },
  {
   "cell_type": "code",
   "execution_count": null,
   "metadata": {},
   "outputs": [],
   "source": [
    "spect.wave = RF.Waveform();\n",
    "spect.window = hamming(1024);\n",
    "spect.nov = floor(numel(spect.window)*0.5);\n",
    "spect.nfft = numel(spect.window)*8;\n",
    "[~, spect.f, spect.t, spect.pow] = spectrogram(spect.wave,...\n",
    "    spect.window, spect.nov, spect.nfft, fs);\n",
    "\n",
    "fig.chirp = imagesc(spect.t*1e6, spect.f*1e-9, pow2db(spect.pow+eps)) % add eps to avoid error\n",
    "axis xy\n",
    "xlabel(\"Time (us)\")\n",
    "ylabel(\"Frequency (GHz)\")\n",
    "ylim([75 82])\n",
    "spect.c = colorbar;\n",
    "spect.c.Label.String = 'Power spectral density (dB/Hz)';\n",
    "title(\"Chirp spectrogram\")\n",
    "saveas(fig.chirp, 'output/chirp', 'svg')"
   ]
  },
  {
   "cell_type": "markdown",
   "metadata": {},
   "source": [
    "### Transmitter\n",
    "Only the peak power of the transmitter is modelled. Gain and phase noise aren't modelled. See the [AWR2944 datasheet](https://www.ti.com/lit/ds/symlink/awr2944.pdf?ts=1696424012463&ref_url=https%253A%252F%252Fwww.ti.com%252Fproduct%252FAWR2944#page%3D40) section 7.8."
   ]
  },
  {
   "cell_type": "code",
   "execution_count": null,
   "metadata": {},
   "outputs": [],
   "source": [
    "TX.PeakPower = 13.5; %dBm\n",
    "TX.Transmitter = phased.Transmitter('PeakPower', 10^((TX.PeakPower-30)/10));"
   ]
  },
  {
   "cell_type": "markdown",
   "metadata": {},
   "source": [
    "### Antenna\n",
    "The same custom antenna design is used for both the transmit and receive antenna. See [EVM User's Guide](https://www.ti.com/lit/ug/spruj22a/spruj22a.pdf?ts=1696405245404&ref_url=https%253A%252F%252Fwww.ti.com%252Ftool%252FAWR2944EVM).\n",
    "\n",
    "![Azimuth Angle Sweep](report_resources/evm_antenna_azimuth.png)\n",
    "![Elevation Angle Sweep](report_resources/evm_antenna_elevation.png)"
   ]
  },
  {
   "cell_type": "code",
   "execution_count": null,
   "metadata": {},
   "outputs": [],
   "source": [
    "Antenna.AzAngles = -180:10:180; % specify full azimuth and elevation range to avoid interpolation error\n",
    "Antenna.ElAngles = -90:5:90;\n",
    "\n",
    "Antenna.AzPattern(1:11) = -inf;\n",
    "Antenna.AzPattern(12:26) = [-23 -17 -13.5 -10 -7.5 -6 -4 -2 -4 -6 -7.5 -10 -13.5 -17 -23];\n",
    "Antenna.AzPattern(27:37) = -inf;\n",
    "Antenna.ElPattern(1:15)= -inf;\n",
    "Antenna.ElPattern(16:22) = [-30 -25 -13 0 -13 -25 -30];\n",
    "Antenna.ElPattern(23:37) = -inf;"
   ]
  },
  {
   "cell_type": "markdown",
   "metadata": {},
   "source": [
    "Convert 2 2D cuts into a 3D pattern."
   ]
  },
  {
   "cell_type": "code",
   "execution_count": null,
   "metadata": {},
   "outputs": [],
   "source": [
    "Antenna.MagPattern = azelcut2pat(Antenna.AzPattern, Antenna.ElPattern);\n",
    "Antenna.PhasePattern = zeros(size(Antenna.MagPattern));"
   ]
  },
  {
   "cell_type": "markdown",
   "metadata": {},
   "source": [
    "Add plot of 3D pattern."
   ]
  },
  {
   "cell_type": "code",
   "execution_count": null,
   "metadata": {},
   "outputs": [],
   "source": [
    "Antenna.DisplayAntenna = phased.CustomAntennaElement('AzimuthAngles',Antenna.AzAngles,'ElevationAngles',...\n",
    "    Antenna.ElAngles,'MagnitudePattern',Antenna.MagPattern,'PhasePattern',Antenna.PhasePattern);\n",
    "pattern(Antenna.DisplayAntenna, 1e9, -180:180, -90:90, 'Type', 'powerdb')\n",
    "release(Antenna.DisplayAntenna)\n",
    "saveas(get(groot,'CurrentFigure'), 'output/antenna_pattern', 'svg')"
   ]
  },
  {
   "cell_type": "markdown",
   "metadata": {},
   "source": [
    "### Transmit Antenna\n",
    "The model for the transmit antenna contains only a single element. Antenna gain isn't modelled."
   ]
  },
  {
   "cell_type": "code",
   "execution_count": null,
   "metadata": {},
   "outputs": [],
   "source": [
    "TX_Antenna.Element = phased.CustomAntennaElement('AzimuthAngles',Antenna.AzAngles,'ElevationAngles',...\n",
    "    Antenna.ElAngles,'MagnitudePattern',Antenna.MagPattern,'PhasePattern',Antenna.PhasePattern);\n",
    "TX_Antenna.Antenna = phased.Radiator('Sensor', TX_Antenna.Element);"
   ]
  },
  {
   "cell_type": "markdown",
   "metadata": {},
   "source": [
    "### Receive Antenna\n",
    "The model for the receive antenna contains only a single element. Antenna gain isn't modelled."
   ]
  },
  {
   "cell_type": "code",
   "execution_count": null,
   "metadata": {},
   "outputs": [],
   "source": [
    "RX_Antenna.Element = phased.CustomAntennaElement('AzimuthAngles',Antenna.AzAngles,'ElevationAngles',...\n",
    "    Antenna.ElAngles,'MagnitudePattern',Antenna.MagPattern,'PhasePattern',Antenna.PhasePattern);\n",
    "RX_Antenna.Antenna = phased.Collector('Sensor', RX_Antenna.Element);"
   ]
  },
  {
   "cell_type": "markdown",
   "metadata": {},
   "source": [
    "### Receiver\n",
    "Receiver gain and noise are modelled in the receiver. The noise temperature method is used to model the noise."
   ]
  },
  {
   "cell_type": "code",
   "execution_count": null,
   "metadata": {},
   "outputs": [],
   "source": [
    "RX.Gain = 44; %dB\n",
    "RX.NoiseFigure = 12; %dB\n",
    "RX.SampleRate = fs;\n",
    "RX.Receiver = phased.ReceiverPreamp('Gain',RX.Gain,'NoiseFigure', ...\n",
    "    RX.NoiseFigure,'SampleRate',RX.SampleRate);"
   ]
  },
  {
   "cell_type": "markdown",
   "metadata": {},
   "source": [
    "### Transceiver"
   ]
  },
  {
   "cell_type": "code",
   "execution_count": null,
   "metadata": {},
   "outputs": [],
   "source": [
    "Transceiver = radarTransceiver('Waveform',RF.Waveform,'Transmitter',TX.Transmitter,...\n",
    "    'TransmitAntenna',TX_Antenna.Antenna,'ReceiveAntenna',RX_Antenna.Antenna,...\n",
    "    'Receiver',RX.Receiver);\n",
    "release(RF.Waveform)\n",
    "release(TX_Antenna.Antenna)\n",
    "release(RX_Antenna.Antenna)"
   ]
  },
  {
   "cell_type": "markdown",
   "metadata": {},
   "source": [
    "## Radar environment\n",
    "The radar environment models the object(s) to be detected by the radar. The transceiver from the previous section is used to generate the appropriate received signal.\n",
    "\n",
    "### Radar target\n",
    "A single static target is used at a distance of 10 meters along the X axis."
   ]
  },
  {
   "cell_type": "code",
   "execution_count": null,
   "metadata": {},
   "outputs": [],
   "source": [
    "tgt.Position = [1 0 0];\n",
    "tgt.Velocity = [0 0 0];"
   ]
  },
  {
   "cell_type": "markdown",
   "metadata": {},
   "source": [
    "### Simulation\n",
    "Simulate single chirp transmission (40us)."
   ]
  },
  {
   "cell_type": "code",
   "execution_count": null,
   "metadata": {},
   "outputs": [],
   "source": [
    "RX_RF.wave = Transceiver(tgt, 0);\n",
    "RX_RF.window = hamming(1024);\n",
    "RX_RF.nov = floor(numel(RX_RF.window)*0.5);\n",
    "RX_RF.nfft = numel(RX_RF.window)*8;\n",
    "[~, RX_RF.f, RX_RF.t, RX_RF.pow] = spectrogram(RX_RF.wave,...\n",
    "    RX_RF.window, RX_RF.nov, RX_RF.nfft, fs);"
   ]
  },
  {
   "cell_type": "markdown",
   "metadata": {},
   "source": [
    "Plot spectrogram of received signal."
   ]
  },
  {
   "cell_type": "code",
   "execution_count": null,
   "metadata": {},
   "outputs": [],
   "source": [
    "fig.rx_chirp = imagesc(RX_RF.t*1e6, RX_RF.f*1e-9, pow2db(RX_RF.pow+eps)) % add eps to avoid error\n",
    "axis xy\n",
    "xlabel(\"Time (us)\")\n",
    "ylabel(\"Frequency (GHz)\")\n",
    "ylim([75 82])\n",
    "RX_RF.c = colorbar;\n",
    "RX_RF.c.Label.String = 'Power spectral density (dB/Hz)';\n",
    "title(\"Received signal spectrogram\")\n",
    "saveas(fig.rx_chirp, 'output/rx_chirp', 'svg')"
   ]
  },
  {
   "cell_type": "markdown",
   "metadata": {},
   "source": [
    "## Radar Transceiver (IF)\n",
    "Use frequency mixer with transmitted and received signal to generate IF (Intermediate Frequency) signal."
   ]
  },
  {
   "cell_type": "code",
   "execution_count": null,
   "metadata": {},
   "outputs": [],
   "source": [
    "TX_RF.wave = RF.Waveform();\n",
    "IF.wave = dechirp(RX_RF.wave, TX_RF.wave);"
   ]
  },
  {
   "cell_type": "markdown",
   "metadata": {},
   "source": [
    "Decimate IF signal to ADC sampling rate 37.5MS/s (see [datasheet](https://www.ti.com/lit/ds/symlink/awr2944.pdf?ts=1696424012463&ref_url=https%253A%252F%252Fwww.ti.com%252Fproduct%252FAWR2944#page%3D40) section 7.8)."
   ]
  },
  {
   "cell_type": "code",
   "execution_count": null,
   "metadata": {},
   "outputs": [],
   "source": [
    "IF_fs = 37.5e6;\n",
    "decimationFactor = ceil(fs/IF_fs);\n",
    "IF.wave = decimate(IF.wave, decimationFactor);"
   ]
  },
  {
   "cell_type": "markdown",
   "metadata": {},
   "source": [
    "Plot spectrogram of IF signal.\n",
    "\n",
    "TODO: optimize spectrogram"
   ]
  },
  {
   "cell_type": "code",
   "execution_count": null,
   "metadata": {},
   "outputs": [],
   "source": [
    "IF.window = hamming(256);\n",
    "IF.nov = floor(numel(IF.window)*0.5);\n",
    "IF.nfft = numel(IF.window)*8;\n",
    "[~, IF.f, IF.t, IF.pow] = spectrogram(IF.wave,...\n",
    "    IF.window, IF.nov, IF.nfft, fs/decimationFactor);\n",
    "\n",
    "fig.if = imagesc(IF.t*1e6, IF.f*1e-6, pow2db(IF.pow+eps)) % add eps to avoid error\n",
    "axis xy\n",
    "xlabel(\"Time (us)\")\n",
    "ylabel(\"Frequency (MHz)\")\n",
    "ylim([0 15])\n",
    "IF.c = colorbar;\n",
    "IF.c.Label.String = 'Power spectral density (dB/Hz)';\n",
    "title(\"IF signal spectrogram\")\n",
    "saveas(fig.if, 'output/IF', 'svg')"
   ]
  },
  {
   "cell_type": "markdown",
   "metadata": {},
   "source": [
    "## Data Processing\n",
    "The purpose of the data processing section is to calculate properties of the object. For now this only includes the distance of the object to the radar.\n",
    "\n",
    "### FFT\n",
    "The first step is to perform an FFT on the input data to get the frequency information."
   ]
  },
  {
   "cell_type": "code",
   "execution_count": null,
   "metadata": {},
   "outputs": [],
   "source": [
    "dsp.fft = fft(IF.wave);\n",
    "dsp.size = numel(dsp.fft);\n",
    "dsp.f = IF_fs/dsp.size*(0:dsp.size-1);"
   ]
  },
  {
   "cell_type": "markdown",
   "metadata": {},
   "source": [
    "The frequency of the input data is plotted."
   ]
  },
  {
   "cell_type": "code",
   "execution_count": null,
   "metadata": {},
   "outputs": [],
   "source": [
    "fig.fft = plot(dsp.f*1e-6, abs(dsp.fft))\n",
    "xlabel(\"Frequency (MHz)\")\n",
    "ylabel(\"|FFT|\")\n",
    "title(\"Input data magnitude\")\n",
    "saveas(fig.fft, 'output/FFT', 'svg')"
   ]
  },
  {
   "cell_type": "markdown",
   "metadata": {},
   "source": [
    "### Peak finding\n",
    "The next step is to find the peak in the FFT to identify the frequency of the signal."
   ]
  },
  {
   "cell_type": "code",
   "execution_count": null,
   "metadata": {},
   "outputs": [],
   "source": [
    "[~, maxIndex] = max(abs(dsp.fft));\n",
    "maxFreq = dsp.f(maxIndex);"
   ]
  },
  {
   "cell_type": "markdown",
   "metadata": {},
   "source": [
    "### Distance calculation\n",
    "With the frequency of the signal the distance of the object can be calculated with the following formula: $d = {f_IF*c \\over 2rate_chirp}$"
   ]
  },
  {
   "cell_type": "code",
   "execution_count": null,
   "metadata": {},
   "outputs": [],
   "source": [
    "distance = maxFreq*physconst('LightSpeed')/(2*RF.Slope)"
   ]
  }
 ],
 "metadata": {
  "kernelspec": {
   "display_name": "MATLAB Kernel",
   "language": "matlab",
   "name": "jupyter_matlab_kernel"
  },
  "language_info": {
   "file_extension": ".m",
   "mimetype": "text/x-matlab",
   "name": "matlab"
  }
 },
 "nbformat": 4,
 "nbformat_minor": 2
}
